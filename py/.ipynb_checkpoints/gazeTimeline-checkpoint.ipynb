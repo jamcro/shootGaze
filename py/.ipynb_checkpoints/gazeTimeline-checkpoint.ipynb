{
 "cells": [
  {
   "cell_type": "code",
   "execution_count": 119,
   "metadata": {},
   "outputs": [],
   "source": [
    "import pandas as pd\n",
    "import numpy as np\n",
    "import matplotlib.pyplot as plt\n",
    "import string\n",
    "%matplotlib inline\n",
    "url = \"https://raw.githubusercontent.com/jamcro/shootGaze/master/data/shootingNovice.csv\"\n",
    "gaze_df = pd.read_csv(url, sep=',', skipinitialspace=True)"
   ]
  },
  {
   "cell_type": "code",
   "execution_count": 120,
   "metadata": {},
   "outputs": [
    {
     "data": {
      "text/html": [
       "<div>\n",
       "<style>\n",
       "    .dataframe thead tr:only-child th {\n",
       "        text-align: right;\n",
       "    }\n",
       "\n",
       "    .dataframe thead th {\n",
       "        text-align: left;\n",
       "    }\n",
       "\n",
       "    .dataframe tbody tr th {\n",
       "        vertical-align: top;\n",
       "    }\n",
       "</style>\n",
       "<table border=\"1\" class=\"dataframe\">\n",
       "  <thead>\n",
       "    <tr style=\"text-align: right;\">\n",
       "      <th></th>\n",
       "      <th>Subject</th>\n",
       "      <th>Intervention</th>\n",
       "      <th>Day</th>\n",
       "      <th>Trial</th>\n",
       "      <th>Timer</th>\n",
       "      <th>startTime</th>\n",
       "      <th>finishTime</th>\n",
       "      <th>Category</th>\n",
       "      <th>Position</th>\n",
       "      <th>Distance</th>\n",
       "      <th>Shot</th>\n",
       "    </tr>\n",
       "  </thead>\n",
       "  <tbody>\n",
       "    <tr>\n",
       "      <th>0</th>\n",
       "      <td>1</td>\n",
       "      <td>0</td>\n",
       "      <td>1</td>\n",
       "      <td>1</td>\n",
       "      <td>7.05</td>\n",
       "      <td>7.685</td>\n",
       "      <td>8.722</td>\n",
       "      <td>B</td>\n",
       "      <td>2.0</td>\n",
       "      <td>5.0</td>\n",
       "      <td>0</td>\n",
       "    </tr>\n",
       "    <tr>\n",
       "      <th>1</th>\n",
       "      <td>1</td>\n",
       "      <td>0</td>\n",
       "      <td>1</td>\n",
       "      <td>1</td>\n",
       "      <td>7.05</td>\n",
       "      <td>8.790</td>\n",
       "      <td>9.419</td>\n",
       "      <td>A</td>\n",
       "      <td>1.0</td>\n",
       "      <td>5.0</td>\n",
       "      <td>0</td>\n",
       "    </tr>\n",
       "  </tbody>\n",
       "</table>\n",
       "</div>"
      ],
      "text/plain": [
       "   Subject  Intervention  Day  Trial  Timer  startTime  finishTime Category  \\\n",
       "0        1             0    1      1   7.05      7.685       8.722        B   \n",
       "1        1             0    1      1   7.05      8.790       9.419        A   \n",
       "\n",
       "   Position  Distance Shot  \n",
       "0       2.0       5.0    0  \n",
       "1       1.0       5.0    0  "
      ]
     },
     "execution_count": 120,
     "metadata": {},
     "output_type": "execute_result"
    }
   ],
   "source": [
    "gaze_df.head(2)"
   ]
  },
  {
   "cell_type": "code",
   "execution_count": 121,
   "metadata": {},
   "outputs": [],
   "source": [
    "#gaze_df['fixOn'] = (gaze_df.startTime - gaze_df.Timer)\n",
    "#gaze_df['fixOff'] = (gaze_df.finishTime - gaze_df.Timer)\n",
    "#gaze_df['fixLen'] = (gaze_df.fixOff - gaze_df.fixOn)\n",
    "\n",
    "# put them in order to make table easier to view\n",
    "gaze_df.insert(7, 'fixOn', (gaze_df.startTime - gaze_df.Timer))\n",
    "gaze_df.insert(8, 'fixOff', (gaze_df.finishTime - gaze_df.Timer))\n",
    "gaze_df.insert(9, 'fixLen', (gaze_df.fixOff - gaze_df.fixOn))\n",
    "gaze_df.Category = pd.Categorical(gaze_df.Category)\n",
    "gaze_df['catCode'] = gaze_df.Category.cat.codes"
   ]
  },
  {
   "cell_type": "code",
   "execution_count": 122,
   "metadata": {},
   "outputs": [
    {
     "data": {
      "text/html": [
       "<div>\n",
       "<style>\n",
       "    .dataframe thead tr:only-child th {\n",
       "        text-align: right;\n",
       "    }\n",
       "\n",
       "    .dataframe thead th {\n",
       "        text-align: left;\n",
       "    }\n",
       "\n",
       "    .dataframe tbody tr th {\n",
       "        vertical-align: top;\n",
       "    }\n",
       "</style>\n",
       "<table border=\"1\" class=\"dataframe\">\n",
       "  <thead>\n",
       "    <tr style=\"text-align: right;\">\n",
       "      <th></th>\n",
       "      <th>Subject</th>\n",
       "      <th>Intervention</th>\n",
       "      <th>Day</th>\n",
       "      <th>Trial</th>\n",
       "      <th>Timer</th>\n",
       "      <th>startTime</th>\n",
       "      <th>finishTime</th>\n",
       "      <th>fixOn</th>\n",
       "      <th>fixOff</th>\n",
       "      <th>fixLen</th>\n",
       "      <th>Category</th>\n",
       "      <th>Position</th>\n",
       "      <th>Distance</th>\n",
       "      <th>Shot</th>\n",
       "      <th>catCode</th>\n",
       "    </tr>\n",
       "  </thead>\n",
       "  <tbody>\n",
       "    <tr>\n",
       "      <th>0</th>\n",
       "      <td>1</td>\n",
       "      <td>0</td>\n",
       "      <td>1</td>\n",
       "      <td>1</td>\n",
       "      <td>7.05</td>\n",
       "      <td>7.685</td>\n",
       "      <td>8.722</td>\n",
       "      <td>0.635</td>\n",
       "      <td>1.672</td>\n",
       "      <td>1.037</td>\n",
       "      <td>B</td>\n",
       "      <td>2.0</td>\n",
       "      <td>5.0</td>\n",
       "      <td>0</td>\n",
       "      <td>2</td>\n",
       "    </tr>\n",
       "    <tr>\n",
       "      <th>1</th>\n",
       "      <td>1</td>\n",
       "      <td>0</td>\n",
       "      <td>1</td>\n",
       "      <td>1</td>\n",
       "      <td>7.05</td>\n",
       "      <td>8.790</td>\n",
       "      <td>9.419</td>\n",
       "      <td>1.740</td>\n",
       "      <td>2.369</td>\n",
       "      <td>0.629</td>\n",
       "      <td>A</td>\n",
       "      <td>1.0</td>\n",
       "      <td>5.0</td>\n",
       "      <td>0</td>\n",
       "      <td>1</td>\n",
       "    </tr>\n",
       "  </tbody>\n",
       "</table>\n",
       "</div>"
      ],
      "text/plain": [
       "   Subject  Intervention  Day  Trial  Timer  startTime  finishTime  fixOn  \\\n",
       "0        1             0    1      1   7.05      7.685       8.722  0.635   \n",
       "1        1             0    1      1   7.05      8.790       9.419  1.740   \n",
       "\n",
       "   fixOff  fixLen Category  Position  Distance Shot  catCode  \n",
       "0   1.672   1.037        B       2.0       5.0    0        2  \n",
       "1   2.369   0.629        A       1.0       5.0    0        1  "
      ]
     },
     "execution_count": 122,
     "metadata": {},
     "output_type": "execute_result"
    }
   ],
   "source": [
    "gaze_df.head(2)"
   ]
  },
  {
   "cell_type": "code",
   "execution_count": 133,
   "metadata": {},
   "outputs": [],
   "source": [
    "# identify this trial\n",
    "x = gaze_df.loc[(gaze_df.Subject == 1) & (gaze_df.Day == 1) & (gaze_df.Trial == 1)].fixOn\n",
    "width = gaze_df.loc[(gaze_df.Subject == 1) & (gaze_df.Day == 1) & (gaze_df.Trial == 1)].fixLen\n",
    "bottom = gaze_df.loc[(gaze_df.Subject == 1) & (gaze_df.Day == 1) & (gaze_df.Trial == 1)].catCode\n",
    "height = [0.5] * len(x)\n",
    "labels = list(string.ascii_uppercase[0:4])"
   ]
  },
  {
   "cell_type": "code",
   "execution_count": 139,
   "metadata": {},
   "outputs": [
    {
     "data": {
      "image/png": "[encoded data removed]",
      "text/plain": [
       "<matplotlib.figure.Figure at 0x111312828>"
      ]
     },
     "metadata": {},
     "output_type": "display_data"
    }
   ],
   "source": [
    "plt.bar(x, height, width, bottom, align='edge', fill=False)\n",
    "plt.xlabel('Time (s)')\n",
    "plt.ylabel('Target')\n",
    "ax=plt.gca()                            # get the axis\n",
    "ax.set_ylim(ax.get_ylim()[::-1])        # invert the axis\n",
    "ax.yaxis.set_ticks([1.25,2.25,3.25,4.25]) # set y-ticks\n",
    "ax.yaxis.tick_left()                    # remove right y-Ticks\n",
    "ax.set_yticklabels(labels, fontdict=None, minor=False)\n",
    "\n",
    "for spine in plt.gca().spines.values():\n",
    "    spine.set_visible(False)\n",
    "\n",
    "# remove all the ticks and directly label each bar with respective value\n",
    "plt.tick_params(top='off', bottom='off', left='off', right='off', labelbottom='on')"
   ]
  },
  {
   "cell_type": "code",
   "execution_count": null,
   "metadata": {},
   "outputs": [],
   "source": []
  },
  {
   "cell_type": "code",
   "execution_count": null,
   "metadata": {},
   "outputs": [],
   "source": []
  },
  {
   "cell_type": "code",
   "execution_count": null,
   "metadata": {},
   "outputs": [],
   "source": []
  },
  {
   "cell_type": "code",
   "execution_count": null,
   "metadata": {},
   "outputs": [],
   "source": []
  },
  {
   "cell_type": "code",
   "execution_count": null,
   "metadata": {},
   "outputs": [],
   "source": []
  },
  {
   "cell_type": "code",
   "execution_count": null,
   "metadata": {
    "collapsed": true
   },
   "outputs": [],
   "source": []
  }
 ],
 "metadata": {
  "kernelspec": {
   "display_name": "Python 3",
   "language": "python",
   "name": "python3"
  },
  "language_info": {
   "codemirror_mode": {
    "name": "ipython",
    "version": 3
   },
   "file_extension": ".py",
   "mimetype": "text/x-python",
   "name": "python",
   "nbconvert_exporter": "python",
   "pygments_lexer": "ipython3",
   "version": "3.6.2"
  }
 },
 "nbformat": 4,
 "nbformat_minor": 2
}
