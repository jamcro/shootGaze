{
 "cells": [
  {
   "cell_type": "code",
   "execution_count": null,
   "metadata": {
    "collapsed": true
   },
   "outputs": [],
   "source": [
    "# identify this trial\n",
    "x = gaze_df.loc[(gaze_df.Subject == 1) & (gaze_df.Day == 1) & (gaze_df.Trial == 1)].fixOn\n",
    "width = gaze_df.loc[(gaze_df.Subject == 1) & (gaze_df.Day == 1) & (gaze_df.Trial == 1)].fixLen\n",
    "bottom = gaze_df.loc[(gaze_df.Subject == 1) & (gaze_df.Day == 1) & (gaze_df.Trial == 1)].catCode\n",
    "# order by position\n",
    "# bottom = gaze_df.loc[(gaze_df.Subject == 1) & (gaze_df.Day == 1) & (gaze_df.Trial == 1)].Position\n",
    "height = [0.5] * len(x)\n",
    "labels = list(string.ascii_uppercase[0:4])"
   ]
  },
  {
   "cell_type": "code",
   "execution_count": null,
   "metadata": {
    "collapsed": true
   },
   "outputs": [],
   "source": [
    "plt.bar(x, height, width, bottom, align='edge', fill=False)\n",
    "plt.xlabel('Time (s)')\n",
    "plt.ylabel('Target')\n",
    "ax=plt.gca()                            # get the axis\n",
    "ax.set_ylim(ax.get_ylim()[::-1])        # invert the axis\n",
    "ax.yaxis.set_ticks([1.25,2.25,3.25,4.25]) # set y-ticks\n",
    "ax.yaxis.tick_left()                    # remove right y-Ticks\n",
    "ax.set_yticklabels(labels, fontdict=None, minor=False)\n",
    "\n",
    "for spine in plt.gca().spines.values():\n",
    "    spine.set_visible(False)\n",
    "\n",
    "# remove all the ticks and directly label each bar with respective value\n",
    "plt.tick_params(top='off', bottom='off', left='off', right='off', labelbottom='on')"
   ]
  },
  {
   "cell_type": "markdown",
   "metadata": {},
   "source": [
    "### plot all trials for all days for one subject"
   ]
  },
  {
   "cell_type": "code",
   "execution_count": null,
   "metadata": {
    "collapsed": true
   },
   "outputs": [],
   "source": [
    "# plotGazeTimeline(gaze_df, 1, 1, 2, 1)\n",
    "width = 8\n",
    "height = 12\n",
    "fig, ax = plt.subplots(nrows=10, ncols=3, sharex=True, sharey=True, figsize=(width, height))\n",
    "\n",
    "sbj = 1\n",
    "figName = '/Users/jc/Documents/GitHub/shootGaze/figs/s' + str(sbj) + 'gaze.png'\n",
    "\n",
    "for dy in range(1,4):\n",
    "    for tr in range(1,11):\n",
    "        plotGazeTimeline(gaze_df, sbj, dy, tr, ax)\n",
    "\n",
    "ax[0, 0].set_title('Day 1')\n",
    "ax[0, 1].set_title('Day 2')\n",
    "ax[0, 2].set_title('Day 3')\n",
    "ax[9, 0].set_xlabel('Time (s)')\n",
    "ax[9, 1].set_xlabel('Time (s)')\n",
    "ax[9, 2].set_xlabel('Time (s)')\n",
    "\n",
    "patch1 = mpatches.Patch(color='#d7191c', label='A')\n",
    "patch2 = mpatches.Patch(color='#fdae61', label='B')\n",
    "patch3 = mpatches.Patch(color='#abdda4', label='C')\n",
    "patch4 = mpatches.Patch(color='#2b83ba', label='D')\n",
    "\n",
    "plt.legend(handles=[patch1,patch2,patch3,patch4],\n",
    "           bbox_to_anchor=(0.95, 0.95),\n",
    "           loc=1, ncol=4,\n",
    "           bbox_transform=plt.gcf().transFigure,\n",
    "           fontsize=8)\n",
    "\n",
    "# # Fine-tune figure; hide x ticks for top plots and y ticks for right plots\n",
    "#plt.setp([a.get_xticklabels() for a in ax[0, :]], visible=False)\n",
    "#plt.setp([a.get_yticklabels() for a in ax[:, 1]], visible=False)\n",
    "\n",
    "# Tight layout often produces nice results but requires the title to be spaced accordingly\n",
    "fig.tight_layout()\n",
    "fig.subplots_adjust(top=0.88)\n",
    "\n",
    "plt.savefig(figName)\n",
    "# plt.show()\n",
    "plt.close(fig)"
   ]
  }
 ],
 "metadata": {
  "kernelspec": {
   "display_name": "Python 3",
   "language": "python",
   "name": "python3"
  },
  "language_info": {
   "codemirror_mode": {
    "name": "ipython",
    "version": 3
   },
   "file_extension": ".py",
   "mimetype": "text/x-python",
   "name": "python",
   "nbconvert_exporter": "python",
   "pygments_lexer": "ipython3",
   "version": "3.6.2"
  }
 },
 "nbformat": 4,
 "nbformat_minor": 2
}
