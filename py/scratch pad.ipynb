{
 "cells": [
  {
   "cell_type": "code",
   "execution_count": null,
   "metadata": {
    "collapsed": true
   },
   "outputs": [],
   "source": [
    "# identify this trial\n",
    "x = gaze_df.loc[(gaze_df.Subject == 1) & (gaze_df.Day == 1) & (gaze_df.Trial == 1)].fixOn\n",
    "width = gaze_df.loc[(gaze_df.Subject == 1) & (gaze_df.Day == 1) & (gaze_df.Trial == 1)].fixLen\n",
    "bottom = gaze_df.loc[(gaze_df.Subject == 1) & (gaze_df.Day == 1) & (gaze_df.Trial == 1)].catCode\n",
    "# order by position\n",
    "# bottom = gaze_df.loc[(gaze_df.Subject == 1) & (gaze_df.Day == 1) & (gaze_df.Trial == 1)].Position\n",
    "height = [0.5] * len(x)\n",
    "labels = list(string.ascii_uppercase[0:4])"
   ]
  },
  {
   "cell_type": "code",
   "execution_count": null,
   "metadata": {
    "collapsed": true
   },
   "outputs": [],
   "source": [
    "plt.bar(x, height, width, bottom, align='edge', fill=False)\n",
    "plt.xlabel('Time (s)')\n",
    "plt.ylabel('Target')\n",
    "ax=plt.gca()                            # get the axis\n",
    "ax.set_ylim(ax.get_ylim()[::-1])        # invert the axis\n",
    "ax.yaxis.set_ticks([1.25,2.25,3.25,4.25]) # set y-ticks\n",
    "ax.yaxis.tick_left()                    # remove right y-Ticks\n",
    "ax.set_yticklabels(labels, fontdict=None, minor=False)\n",
    "\n",
    "for spine in plt.gca().spines.values():\n",
    "    spine.set_visible(False)\n",
    "\n",
    "# remove all the ticks and directly label each bar with respective value\n",
    "plt.tick_params(top='off', bottom='off', left='off', right='off', labelbottom='on')"
   ]
  }
 ],
 "metadata": {
  "kernelspec": {
   "display_name": "Python 3",
   "language": "python",
   "name": "python3"
  },
  "language_info": {
   "codemirror_mode": {
    "name": "ipython",
    "version": 3
   },
   "file_extension": ".py",
   "mimetype": "text/x-python",
   "name": "python",
   "nbconvert_exporter": "python",
   "pygments_lexer": "ipython3",
   "version": "3.6.2"
  }
 },
 "nbformat": 4,
 "nbformat_minor": 2
}
